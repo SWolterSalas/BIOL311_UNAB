{
 "cells": [
  {
   "attachments": {},
   "cell_type": "markdown",
   "metadata": {},
   "source": [
    "# Introducción a la Base de Datos de NCBI (National Center for Biotechnology Information)\n",
    "\n",
    "El National Center for Biotechnology Information (NCBI) es una institución de renombre mundial dedicada a recopilar, organizar y ofrecer acceso a una amplia gama de recursos y datos biomédicos. Una de las principales herramientas del NCBI es su base de datos, que alberga una vasta cantidad de información sobre secuencias genéticas, genes, proteínas, literatura científica y más.\n",
    "\n",
    "## Historia y Objetivos\n",
    "El NCBI fue creado en 1988 como parte de la Biblioteca Nacional de Medicina (NLM) de los Estados Unidos, con el objetivo de proporcionar acceso público a los avances en biología molecular y genómica. Desde entonces, ha evolucionado para convertirse en una institución líder en bioinformática y biología computacional.\n",
    "\n",
    "## Recursos de la Base de Datos del NCBI\n",
    "La Base de Datos del NCBI alberga numerosos recursos que son esenciales para la investigación biomédica y la genómica. Algunos de los recursos más destacados son:\n",
    "\n",
    "### GenBank\n",
    "GenBank es una de las bases de datos más conocidas y utilizadas en el campo de la genética. Contiene secuencias de ADN y ARN de diferentes organismos, incluyendo bacterias, plantas, animales y humanos. GenBank es una valiosa fuente de datos para el descubrimiento de genes, la identificación de variantes genéticas y la realización de análisis filogenéticos.\n",
    "\n",
    "### PubMed\n",
    "PubMed es una base de datos bibliográfica que recopila millones de referencias de artículos científicos y médicos de todo el mundo. Proporciona acceso a la literatura científica y médica, incluyendo resúmenes y enlaces a artículos completos. Los investigadores utilizan PubMed para mantenerse actualizados sobre los avances en sus áreas de interés y realizar revisiones bibliográficas.\n",
    "\n",
    "### RefSeq\n",
    "RefSeq es una base de datos curada de secuencias de genes, ARN y proteínas de diversos organismos. Proporciona anotaciones detalladas, incluyendo información sobre la estructura, función y localización de los genes y proteínas. RefSeq es ampliamente utilizado en la investigación genómica y la interpretación de variantes genéticas.\n",
    "\n",
    "### BLAST\n",
    "El Basic Local Alignment Search Tool (BLAST) es una herramienta de búsqueda y alineamiento de secuencias. Permite a los investigadores comparar una secuencia de interés con las secuencias almacenadas en la base de datos del NCBI para identificar similitudes y relaciones evolutivas. BLAST es ampliamente utilizado para el análisis de secuencias y la identificación de genes homólogos.\n",
    "\n",
    "### UniGene\n",
    "UniGene es una base de datos que agrupa secuencias de ARN mensajero (ARNm) en \"clusters\" o grupos de genes relacionados. Estos grupos se construyen a partir de secuencias de ARNm de diferentes bibliotecas y muestras. UniGene facilita la comparación de expresión génica entre diferentes tejidos y condiciones experimentales.\n",
    "\n",
    "## Utilidad en la Investigación \n",
    "La Base de Datos del NCBI es una herramienta esencial para la investigación genómica. Proporciona acceso rápido y gratuito a una gran cantidad de información y recursos que permiten a los científicos avanzar en sus investigaciones y descubrimientos. Algunas de las formas en las que la base de datos del NCBI es utilizada en la investigación biomédica incluyen:\n",
    "\n",
    "- Identificación de secuencias de genes y proteínas relacionadas a través de búsquedas en GenBank y BLAST.\n",
    "- Descubrimiento y caracterización de variantes genéticas asociadas a enfermedades a través de datos de dbSNP y ClinVar.\n",
    "- Investigación de relaciones filogenéticas y evolución a través de análisis comparativos de secuencias en GenBank.\n",
    "- Estudio de la estructura y función de proteínas utilizando recursos como Protein Data Bank (PDB) y Protein Clusters.\n",
    "\n",
    "La base de datos del NCBI también se utiliza en la enseñanza y la divulgación científica, brindando acceso a información precisa y actualizada sobre genética, genómica y biología molecular. Además, el NCBI ofrece herramientas y servicios de bioinformática, como Entrez, que permiten a los investigadores buscar, filtrar y analizar datos de manera eficiente."
   ]
  }
 ],
 "metadata": {
  "language_info": {
   "name": "python"
  },
  "orig_nbformat": 4
 },
 "nbformat": 4,
 "nbformat_minor": 2
}
